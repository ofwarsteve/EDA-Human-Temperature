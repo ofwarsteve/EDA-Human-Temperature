{
 "cells": [
  {
   "cell_type": "markdown",
   "metadata": {},
   "source": [
    "# What is the True Normal Human Body Temperature? \n",
    "\n",
    "#### Background\n",
    "\n",
    "The mean normal body temperature was held to be 37$^{\\circ}$C or 98.6$^{\\circ}$F for more than 120 years since it was first conceptualized and reported by Carl Wunderlich in a famous 1868 book. But, is this value statistically correct?"
   ]
  },
  {
   "cell_type": "markdown",
   "metadata": {},
   "source": [
    "<h3>Exercises</h3>\n",
    "\n",
    "<p>In this exercise, you will analyze a dataset of human body temperatures and employ the concepts of hypothesis testing, confidence intervals, and statistical significance.</p>\n",
    "\n",
    "<p>Answer the following questions <b>in this notebook below and submit to your Github account</b>.</p> \n",
    "\n",
    "<ol>\n",
    "<li>  Is the distribution of body temperatures normal? \n",
    "    <ul>\n",
    "    <li> Although this is not a requirement for the Central Limit Theorem to hold (read the introduction on Wikipedia's page about the CLT carefully: https://en.wikipedia.org/wiki/Central_limit_theorem), it gives us some peace of mind that the population may also be normally distributed if we assume that this sample is representative of the population.\n",
    "    <li> Think about the way you're going to check for the normality of the distribution. Graphical methods are usually used first, but there are also other ways: https://en.wikipedia.org/wiki/Normality_test\n",
    "    </ul>\n",
    "<li>  Is the sample size large? Are the observations independent?\n",
    "    <ul>\n",
    "    <li> Remember that this is a condition for the Central Limit Theorem, and hence the statistical tests we are using, to apply.\n",
    "    </ul>\n",
    "<li>  Is the true population mean really 98.6 degrees F?\n",
    "    <ul>\n",
    "    <li> First, try a bootstrap hypothesis test.\n",
    "    <li> Now, let's try frequentist statistical testing. Would you use a one-sample or two-sample test? Why?\n",
    "    <li> In this situation, is it appropriate to use the $t$ or $z$ statistic? \n",
    "    <li> Now try using the other test. How is the result be different? Why?\n",
    "    </ul>\n",
    "<li>  Draw a small sample of size 10 from the data and repeat both frequentist tests. \n",
    "    <ul>\n",
    "    <li> Which one is the correct one to use? \n",
    "    <li> What do you notice? What does this tell you about the difference in application of the $t$ and $z$ statistic?\n",
    "    </ul>\n",
    "<li>  At what temperature should we consider someone's temperature to be \"abnormal\"?\n",
    "    <ul>\n",
    "    <li> As in the previous example, try calculating everything using the boostrap approach, as well as the frequentist approach.\n",
    "    <li> Start by computing the margin of error and confidence interval. When calculating the confidence interval, keep in mind that you should use the appropriate formula for one draw, and not N draws.\n",
    "    </ul>\n",
    "<li>  Is there a significant difference between males and females in normal temperature?\n",
    "    <ul>\n",
    "    <li> What testing approach did you use and why?\n",
    "    <li> Write a story with your conclusion in the context of the original problem.\n",
    "    </ul>\n",
    "</ol>\n",
    "\n",
    "You can include written notes in notebook cells using Markdown: \n",
    "   - In the control panel at the top, choose Cell > Cell Type > Markdown\n",
    "   - Markdown syntax: http://nestacms.com/docs/creating-content/markdown-cheat-sheet\n",
    "\n",
    "#### Resources\n",
    "\n",
    "+ Information and data sources: http://www.amstat.org/publications/jse/datasets/normtemp.txt, http://www.amstat.org/publications/jse/jse_data_archive.htm\n",
    "+ Markdown syntax: http://nestacms.com/docs/creating-content/markdown-cheat-sheet\n",
    "\n",
    "****"
   ]
  },
  {
   "cell_type": "code",
   "execution_count": 23,
   "metadata": {},
   "outputs": [
    {
     "data": {
      "text/plain": [
       "(130, 3)"
      ]
     },
     "execution_count": 23,
     "metadata": {},
     "output_type": "execute_result"
    }
   ],
   "source": [
    "import pandas as pd\n",
    "\n",
    "df = pd.read_csv('data/human_body_temperature.csv')"
   ]
  },
  {
   "cell_type": "code",
   "execution_count": 21,
   "metadata": {},
   "outputs": [],
   "source": [
    "import numpy as np\n",
    "import seaborn as sns\n",
    "import matplotlib.pyplot as plt"
   ]
  },
  {
   "cell_type": "code",
   "execution_count": 22,
   "metadata": {},
   "outputs": [
    {
     "data": {
      "image/png": "[encoded data removed]",
      "text/plain": [
       "<Figure size 432x288 with 1 Axes>"
      ]
     },
     "metadata": {},
     "output_type": "display_data"
    }
   ],
   "source": [
    "#1:  Is the distribution of body temperatures normal?\n",
    "\n",
    "# Let's explore this visually by comparing the sample ecdf to the normal ecdf.\n",
    "\n",
    "temp_list = df.temperature.tolist()\n",
    "\n",
    "def ecdf(data):\n",
    "    \"\"\"Compute ECDF for a one-dimensional array of measurements.\"\"\"\n",
    "    # Number of data points: n\n",
    "    n = len(data)\n",
    "\n",
    "    # x-data for the ECDF: x\n",
    "    x = np.sort(data)\n",
    "\n",
    "    # y-data for the ECDF: y\n",
    "    y = np.arange(1,  n +1) / n\n",
    "\n",
    "    return x, y\n",
    "\n",
    "\n",
    "# Compute mean and standard deviation: mu, sigma\n",
    "mu = np.mean(temp_list)\n",
    "sigma = np.std(temp_list)\n",
    "\n",
    "# Sample out of a normal distribution with this mu and sigma: samples\n",
    "samples = np.random.normal(mu, sigma, size = 10000)\n",
    "\n",
    "# Get the CDF of the samples and of the data\n",
    "x_theor, y_theor = ecdf(samples)\n",
    "x, y, = ecdf(temp_list)\n",
    "\n",
    "# Plot the CDFs and show the plot\n",
    "_ = plt.plot(x_theor, y_theor)\n",
    "_ = plt.plot(x, y, marker='.', linestyle='none')\n",
    "_ = plt.xlabel('Temperatures (degrees F)')\n",
    "_ = plt.ylabel('CDF')\n",
    "plt.show()"
   ]
  },
  {
   "cell_type": "code",
   "execution_count": 31,
   "metadata": {},
   "outputs": [
    {
     "name": "stdout",
     "output_type": "stream",
     "text": [
      "p value =  0.3463  and alpha =  0.05\n",
      "We fail to reject the Null Hypothesis: Our study suggests the two distributions are equal.\n"
     ]
    }
   ],
   "source": [
    "#1 Continued:  Graphical results seem favorable, as the sample points (in orange) conform to the normal ecdf.\n",
    "\n",
    "# Next, Bootstrap a Hypothesis test that the observed distribution is the same as the normal distribution.\n",
    "# Recall that temp_list and samples were used in the last cell.  Let's redraw a smaller number of samples this time.\n",
    "# Our Null Hypothesis will be that the two distributions are equal\n",
    "# Our Null Hypothesis will be that the two distributions are not equal\n",
    "# Our confidence level will be 95%\n",
    "\n",
    "alpha = 0.05\n",
    "\n",
    "#Define Drawing Bootstrap Replicates for general function\n",
    "def bootstrap_replicate_1d(data, func):\n",
    "    return func(np.random.choice(data, size=len(data)))\n",
    "\n",
    "def draw_bs_reps(data, func, size=1):\n",
    "    \"\"\"Draw bootstrap replicates.\"\"\"\n",
    "\n",
    "    # Initialize array of replicates: bs_replicates\n",
    "    bs_replicates = np.empty(size)\n",
    "\n",
    "    # Generate replicates\n",
    "    for i in range(size):\n",
    "        bs_replicates[i] = bootstrap_replicate_1d(data, func)\n",
    "\n",
    "    return bs_replicates\n",
    "\n",
    "\n",
    "samples = np.random.normal(mu, sigma, size = 130)\n",
    "\n",
    "# Compute the difference in mean temperature: diff_means\n",
    "diff_means = np.mean(temp_list) - np.mean(samples)\n",
    "\n",
    "# Compute mean of pooled data: mean_count\n",
    "mean_count = np.mean(np.concatenate((temp_list, samples)))\n",
    "\n",
    "# Generate shifted data sets\n",
    "temp_shifted = temp_list - np.mean(temp_list) + mean_count\n",
    "samp_shifted = samples - np.mean(samples) + mean_count\n",
    "\n",
    "# Generate bootstrap replicates\n",
    "bs_reps_temp = draw_bs_reps(temp_shifted,\n",
    "                       np.mean, size=10000)\n",
    "bs_reps_samp = draw_bs_reps(samp_shifted,\n",
    "                       np.mean, size=10000)\n",
    "\n",
    "# Get replicates of difference of means: bs_replicates\n",
    "bs_replicates = bs_reps_temp -  bs_reps_samp\n",
    "\n",
    "# Compute and print p-value: p\n",
    "p = np.sum(bs_replicates >= np.mean(temp_list) - np.mean(samples)) \\\n",
    "            / len(bs_replicates)\n",
    "print('p value = ', p, ' and alpha = ', alpha)\n",
    "if p >= alpha:\n",
    "    print('We fail to reject the Null Hypothesis: Our study suggests the two distributions likely are equal.')\n",
    "if p < alpha:\n",
    "    print('We reject the Null Hypothesis:  Our study suggests the two distributions are not equal')"
   ]
  },
  {
   "cell_type": "code",
   "execution_count": null,
   "metadata": {},
   "outputs": [],
   "source": [
    "#1 Answer:  The distribution of Body Temperatures is likely Normally Distributed."
   ]
  },
  {
   "cell_type": "code",
   "execution_count": null,
   "metadata": {},
   "outputs": [],
   "source": []
  },
  {
   "cell_type": "code",
   "execution_count": 83,
   "metadata": {},
   "outputs": [],
   "source": [
    "\n",
    "# Question 2:  Is the sample size large? Are the observations independent?\n",
    "\n",
    "#Answer: \n",
    "#It is encourging that our sample contains 130 entries.  The Central Limit Theorem generally requires a \n",
    "#sample size of 30 or more to assume the distribution of an independent random variable is approximately normal.\n",
    "#It should be a reasonable assumption that individual patients' body temperatures are independent."
   ]
  },
  {
   "cell_type": "code",
   "execution_count": null,
   "metadata": {},
   "outputs": [],
   "source": []
  },
  {
   "cell_type": "code",
   "execution_count": 87,
   "metadata": {},
   "outputs": [
    {
     "name": "stdout",
     "output_type": "stream",
     "text": [
      "p =  0.0\n"
     ]
    }
   ],
   "source": [
    "# Question 3, Part 1) A bootstrap Hypothesis Test for the Mean:\n",
    "\n",
    "# Null Hypothesis:  The true population mean temperature is 98.6\n",
    "# Alternate Hypothesis:  The true population mean temperature is not 98.6\n",
    "# alpha is still stored as 0.05\n",
    "\n",
    "hypothetical_mean = 98.6\n",
    "\n",
    "# Make an array of translated_data: \n",
    "translated_data_set = temp_list - np.mean(temp_list) + (hypothetical_mean)\n",
    "\n",
    "# Take bootstrap replicates of translated data set: bs_replicates\n",
    "bs_replicates = draw_bs_reps(translated_data_set, np.mean, 10000)\n",
    "\n",
    "# Compute fraction of replicates that are less than the observed data set: p\n",
    "p = np.sum(bs_replicates <= np.mean(temp_list)) / 10000\n",
    "\n",
    "# Print the p-value\n",
    "print('p = ', p)\n",
    "\n",
    "\n"
   ]
  },
  {
   "cell_type": "code",
   "execution_count": null,
   "metadata": {},
   "outputs": [],
   "source": [
    "# Question 3, Part 1 Answer:  The p value is likely too small to display.  \n",
    "# Our analysis suggests it is likely that the true population temperature mean is 98.6 degrees F"
   ]
  },
  {
   "cell_type": "code",
   "execution_count": null,
   "metadata": {},
   "outputs": [],
   "source": [
    "# Question 3, Part 2:  Would you use a one-sample or two-sample test? Why?\n",
    "# Question 3, Part 3:  In this situation, is it appropriate to use the  t  or  z  statistic?\n",
    "# Question 3, Part 4:  Now try using the other test. How is the result be different? Why?\n",
    "\n",
    "# Question 3, Part 2 Answer:  A one sample test is appropriate, since we only have one sample set.  A two sample\n",
    "# test would be appropriate if we were comparing two sets of data to see if their means were equal.\n",
    "\n",
    "# Question 3, Part 3 Answer:  I would use a z statistic.  While the population standard deviation is unknown, \n",
    "# the sample size is larger than 30. By Central Limit Theorem, it should be acceptable to treat the distribution\n",
    "# as approximately normal.  Thus, a z statistic will suffice.\n",
    "\n",
    "# Question 3, Part 4:  Using the full data set and the stat calculator at https://www.socscistatistics.com/tests/\n",
    "# T value = -5.454823, p < 0.00001\n",
    "# Z value = -5.47593, p < 0.00001\n",
    "\n",
    "# While both tests returned significant p values, T statistics are generally found inside Z statistics (closer to 0)  \n",
    "# A Z statistic is calculated assuming you know the pop std dev (or are reasonably certain your sample is normal by CLT)\n",
    "# because a Z Test has a higher degree of precision, it can be obtain smaller p values from the same data set\n",
    "# because a T Test may not have an ideal std dev, it requires slightly more accumulated p values to draw the same \n",
    "# conclusion... thus a critical T value is calculated closer to 0 than a critical Z value"
   ]
  },
  {
   "cell_type": "code",
   "execution_count": 137,
   "metadata": {},
   "outputs": [
    {
     "name": "stdout",
     "output_type": "stream",
     "text": [
      "10 count sample mean =  98.14000000000001 , standard deviation =  0.51 .\n"
     ]
    }
   ],
   "source": [
    "# Question 4: Draw a small sample of size 10 from the data and repeat both frequentist tests.\n",
    "# Which one is the correct one to use?\n",
    "# What do you notice? What does this tell you about the difference in application of the  tt  and  zz  statistic?\n",
    "\n",
    "temp_by_10 = np.random.choice(temp_list, size=10)\n",
    "mean_10 = np.mean(temp_by_10)\n",
    "std_10 = np.std(temp_by_10)\n",
    "\n",
    "print('10 count sample mean = ', mean_10, ', standard deviation = ', round(std_10,2), '.')\n",
    "\n",
    "# T test result:  T = -0.199293. The value of p is .846464. The result is not significant at p < .05\n",
    "# Z test result:  Z = -0.21007. The value of p is .83366. The result is not significant at p < .05.\n",
    "\n",
    "# Here, it would be correct to use the T test statistic, since the sample now has size 10, and the\n",
    "# population standard deviation is still unknown.  That being said, the smaller sample results were not \n",
    "# all that good!  It seems like a better choice to get a large bootstrap sample to study than to shrink the \n",
    "# sample size to 10% of the original!"
   ]
  },
  {
   "cell_type": "code",
   "execution_count": 61,
   "metadata": {},
   "outputs": [
    {
     "name": "stdout",
     "output_type": "stream",
     "text": [
      "Bootstrap abnormal high:  99.81  and up\n",
      "Bootstrap abnormal low:  96.52  and below\n",
      "\n",
      "frequentist abnormal high:  99.71  and up\n",
      "frequentist abnormal low:  96.789  and below\n"
     ]
    }
   ],
   "source": [
    "# Question 5: At what temperature should we consider someone's temperature to be \"abnormal\"?\n",
    "\n",
    "# Strictly speaking, the top and bottom 2.5% of the distribution are abnormal.\n",
    "# Taken from the Bootstrap Replicates set, we have:\n",
    "\n",
    "# Developing a Confidence Interval for Bootstrap Sample\n",
    "# First, let's obtain one bootstrap Sample of the same size as the original data.\n",
    "\n",
    "bs_dist = np.random.choice(temp_list, size = 130)\n",
    "\n",
    "bs_mu = np.mean(bs_dist)\n",
    "bs_sigma = np.std(bs_dist)\n",
    "\n",
    "bs_high = np.round(bs_mu + 2*bs_sigma, 2)\n",
    "bs_low = np.round(bs_mu - 2*bs_sigma, 2)\n",
    "\n",
    "# frequentist approach:  Again, since this data is approximately normal, the standard deviation should be used to \n",
    "# make assertions about the spread and variability of the data.\n",
    "\n",
    "freq_low = round(mu - 2*sigma, 3)\n",
    "freq_high = round(mu + 2*sigma, 3)\n",
    "\n",
    "print('Bootstrap abnormal high: ', bs_high, ' and up')\n",
    "print('Bootstrap abnormal low: ', bs_low, ' and below')\n",
    "print('')\n",
    "print('frequentist abnormal high: ', freq_high, ' and up')\n",
    "print('frequentist abnormal low: ', freq_low, ' and below')\n"
   ]
  },
  {
   "cell_type": "code",
   "execution_count": 101,
   "metadata": {},
   "outputs": [
    {
     "data": {
      "image/png": "[encoded data removed]",
      "text/plain": [
       "<Figure size 432x288 with 1 Axes>"
      ]
     },
     "metadata": {},
     "output_type": "display_data"
    },
    {
     "name": "stdout",
     "output_type": "stream",
     "text": [
      "Sample: Mean Male Temperature =  98.105  with standard deviation =  0.693\n",
      "Sample: Mean Female Temperature =  98.394  with standard deviation =  0.738\n"
     ]
    }
   ],
   "source": [
    "# Question 6: Is there a significant difference between males and females in normal temperature?\n",
    "\n",
    "M_temps = df[df['gender'] == 'M'].temperature.tolist()\n",
    "F_temps = df[df['gender'] == 'F'].temperature.tolist()\n",
    "\n",
    "M_mean = np.mean(M_temps)\n",
    "M_sigma = np.std(M_temps)\n",
    "\n",
    "F_mean = np.mean(F_temps)\n",
    "F_sigma = np.std(F_temps)\n",
    "\n",
    "# We are essentially trying to determine if the two distributions are the same.  \n",
    "# let's start with a visual exploration.\n",
    "\n",
    "plt.hist(M_temps, alpha=0.5, label='Male Temperatures')\n",
    "plt.hist(F_temps, alpha=0.5, label='Female Temperatures')\n",
    "plt.legend(loc='upper right')\n",
    "plt.show()\n",
    "\n",
    "print('Sample: Mean Male Temperature = ', round(M_mean, 3), ' with standard deviation = ', round(M_sigma, 3)) \n",
    "print('Sample: Mean Female Temperature = ', round(F_mean, 3), ' with standard deviation = ', round(F_sigma, 3)) "
   ]
  },
  {
   "cell_type": "code",
   "execution_count": 182,
   "metadata": {},
   "outputs": [],
   "source": [
    "# Question 6 Continued: Is there a significant difference between males and females in normal temperature?\n",
    "\n",
    "# That is, are the upper and lower bounds on what is considered normal (within 2 standard deviations) the same?\n",
    "# To answer this question, let's generate a distribution of resampled normal ranges from the Male and Female observed \n",
    "# temperatures, and compare them to a permuted resampling of the same data.\n",
    "\n",
    "# Generate samples of normal ranges for both males and females.\n",
    "\n",
    "female_lows = []\n",
    "female_highs = []\n",
    "\n",
    "male_lows = []\n",
    "male_highs = []\n",
    "\n",
    "for i in range(10000):\n",
    "    male_sample = np.random.choice(M_temps, size=len(M_temps))\n",
    "\n",
    "    male_low = np.percentile(male_sample, 2.5)\n",
    "    male_high = np.percentile(male_sample, 97.5)\n",
    "    male_lows = np.append(male_lows, male_low)\n",
    "    male_highs = np.append(male_highs, male_high)\n",
    "\n",
    "    female_sample = np.random.choice(F_temps, size = len(F_temps))\n",
    "\n",
    "    female_low = np.percentile(female_sample, 2.5)\n",
    "    female_high = np.percentile(female_sample, 97.5)\n",
    "    female_lows = np.append(female_lows, female_low)\n",
    "    female_highs = np.append(female_highs, female_high)\n"
   ]
  },
  {
   "cell_type": "code",
   "execution_count": 197,
   "metadata": {},
   "outputs": [
    {
     "data": {
      "image/png": "[encoded data removed]",
      "text/plain": [
       "<Figure size 432x288 with 1 Axes>"
      ]
     },
     "metadata": {},
     "output_type": "display_data"
    }
   ],
   "source": [
    "# Let's compare the lows visually\n",
    "\n",
    "plt.hist([male_lows, female_lows], bins = 12)\n",
    "\n",
    "plt.show()\n"
   ]
  },
  {
   "cell_type": "code",
   "execution_count": 195,
   "metadata": {},
   "outputs": [
    {
     "data": {
      "image/png": "[encoded data removed]",
      "text/plain": [
       "<Figure size 432x288 with 1 Axes>"
      ]
     },
     "metadata": {},
     "output_type": "display_data"
    }
   ],
   "source": [
    "plt.hist([male_highs, female_highs], bins = 12)\n",
    "plt.show()\n"
   ]
  },
  {
   "cell_type": "code",
   "execution_count": null,
   "metadata": {},
   "outputs": [],
   "source": [
    "# Given the above visual comparison, is would be very surprising that the ranges are significantly different.\n",
    "# It should not be necessary to conduct a full hypothesis test.  If there is a signiciant different in normal range\n",
    "# The data that was collected in the study will not be sufficient to detect it.\n"
   ]
  },
  {
   "cell_type": "code",
   "execution_count": null,
   "metadata": {},
   "outputs": [],
   "source": []
  }
 ],
 "metadata": {
  "kernelspec": {
   "display_name": "Python 3",
   "language": "python",
   "name": "python3"
  },
  "language_info": {
   "codemirror_mode": {
    "name": "ipython",
    "version": 3
   },
   "file_extension": ".py",
   "mimetype": "text/x-python",
   "name": "python",
   "nbconvert_exporter": "python",
   "pygments_lexer": "ipython3",
   "version": "3.6.5"
  }
 },
 "nbformat": 4,
 "nbformat_minor": 1
}
